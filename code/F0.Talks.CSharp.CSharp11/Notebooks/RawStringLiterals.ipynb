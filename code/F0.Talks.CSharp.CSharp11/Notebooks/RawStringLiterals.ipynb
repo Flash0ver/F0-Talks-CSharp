{
 "cells": [
  {
   "attachments": {},
   "cell_type": "markdown",
   "metadata": {},
   "source": [
    "# Raw string literals\n",
    "\n",
    "`interpolated strings` C# 6"
   ]
  },
  {
   "cell_type": "code",
   "execution_count": null,
   "metadata": {
    "dotnet_interactive": {
     "language": "csharp"
    },
    "polyglot_notebook": {
     "kernelName": "csharp"
    }
   },
   "outputs": [],
   "source": [
    "string name = \"@0x_F0\";\n",
    "\n",
    "string verbatim = $@\"{{\n",
    "    \"\"names\"\": [\"\"{name}\"\", \"\"@FlashOWare\"\"],\n",
    "    \"\"channels\"\": [\"\"twitch.tv/FlashOWare\"\", \"\"youtube.com/@FlashOWare\"\"]\n",
    "}}\";\n",
    "\n",
    "string json = $$\"\"\"\n",
    "    {\n",
    "        \"names\": [\"{{name}}\", \"@FlashOWare\"],\n",
    "        \"channels\": [\"twitch.tv/FlashOWare\", \"youtube.com/@FlashOWare\"]\n",
    "    }\n",
    "    \"\"\";\n",
    "\n",
    "string csharp = \"\"\"\n",
    "    namespace F0.Talks.CSharp;\n",
    "\n",
    "    internal static class Program\n",
    "    {\n",
    "        private static void Main(string[] args)\n",
    "        {\n",
    "            Console.WriteLine(\"Hello World!\");\n",
    "        }\n",
    "    }\n",
    "    \"\"\";\n",
    "\n",
    "Console.WriteLine(\"interpolated verbatim string\");\n",
    "Console.WriteLine(verbatim);\n",
    "Console.WriteLine();\n",
    "\n",
    "Console.WriteLine(\"JSON\");\n",
    "Console.WriteLine(json);\n",
    "Console.WriteLine();\n",
    "\n",
    "Console.WriteLine(\"C#\");\n",
    "Console.WriteLine(csharp);\n",
    "Console.WriteLine(\"---\");"
   ]
  }
 ],
 "metadata": {
  "kernelspec": {
   "display_name": ".NET (C#)",
   "language": "C#",
   "name": ".net-csharp"
  },
  "language_info": {
   "name": "polyglot-notebook"
  },
  "polyglot_notebook": {
   "kernelInfo": {
    "defaultKernelName": "csharp",
    "items": [
     {
      "aliases": [],
      "languageName": "csharp",
      "name": "csharp"
     }
    ]
   }
  }
 },
 "nbformat": 4,
 "nbformat_minor": 2
}
