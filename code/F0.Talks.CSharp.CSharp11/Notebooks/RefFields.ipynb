{
 "cells": [
  {
   "attachments": {},
   "cell_type": "markdown",
   "metadata": {},
   "source": [
    "# ref fields\n",
    "\n",
    "`ref structs` C# 7.2"
   ]
  },
  {
   "cell_type": "code",
   "execution_count": null,
   "metadata": {
    "dotnet_interactive": {
     "language": "csharp"
    },
    "polyglot_notebook": {
     "kernelName": "csharp"
    }
   },
   "outputs": [],
   "source": [
    "using System.Runtime.InteropServices;\n",
    "\n",
    "Method();\n",
    "\n",
    "void Method()\n",
    "{\n",
    "    Span<char> span = stackalloc char[6] { '@', '0', 'x', '_', 'F', '0' };\n",
    "\n",
    "    RefStruct refStruct = new();\n",
    "    refStruct.WriteLine(span);\n",
    "}\n",
    "\n",
    "public ref struct RefStruct\n",
    "{\n",
    "    private ref char _field;\n",
    "    private int _length;\n",
    "\n",
    "    public void WriteLine(scoped Span<char> buffer)\n",
    "    {\n",
    "        ref var _field = ref MemoryMarshal.GetReference(buffer);\n",
    "        _length = buffer.Length;\n",
    "\n",
    "        Console.WriteLine(_field);\n",
    "        Console.WriteLine(_length);\n",
    "\n",
    "        Console.Out.WriteLine(buffer);\n",
    "    }\n",
    "}"
   ]
  }
 ],
 "metadata": {
  "kernelspec": {
   "display_name": ".NET (C#)",
   "language": "C#",
   "name": ".net-csharp"
  },
  "language_info": {
   "name": "polyglot-notebook"
  },
  "polyglot_notebook": {
   "kernelInfo": {
    "defaultKernelName": "csharp",
    "items": [
     {
      "aliases": [],
      "languageName": "csharp",
      "name": "csharp"
     }
    ]
   }
  }
 },
 "nbformat": 4,
 "nbformat_minor": 2
}
