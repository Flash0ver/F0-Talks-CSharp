{
 "cells": [
  {
   "attachments": {},
   "cell_type": "markdown",
   "metadata": {},
   "source": [
    "# Required members\n",
    "\n",
    "`System.Diagnostics.CodeAnalysis.SetsRequiredMembersAttribute` .NET 7"
   ]
  },
  {
   "cell_type": "code",
   "execution_count": null,
   "metadata": {
    "dotnet_interactive": {
     "language": "csharp"
    },
    "polyglot_notebook": {
     "kernelName": "csharp"
    }
   },
   "outputs": [],
   "source": [
    "#nullable enable\n",
    "using System.Diagnostics.CodeAnalysis;\n",
    "\n",
    "MyClass instance = new(\"@0x_F0\");\n",
    "\n",
    "Console.WriteLine(instance);\n",
    "\n",
    "public record class MyClass\n",
    "{\n",
    "    public required string MyField;\n",
    "\n",
    "    public string? MyOptionalProperty { get; init; }\n",
    "    public required string? MyRequiredProperty { get; init; }\n",
    "\n",
    "    public MyClass()\n",
    "    {\n",
    "    }\n",
    "\n",
    "    [SetsRequiredMembersAttribute]\n",
    "    public MyClass(string value)\n",
    "    {\n",
    "        MyField = value;\n",
    "        MyRequiredProperty = value;\n",
    "    }\n",
    "}"
   ]
  }
 ],
 "metadata": {
  "kernelspec": {
   "display_name": ".NET (C#)",
   "language": "C#",
   "name": ".net-csharp"
  },
  "language_info": {
   "name": "polyglot-notebook"
  },
  "polyglot_notebook": {
   "kernelInfo": {
    "defaultKernelName": "csharp",
    "items": [
     {
      "aliases": [],
      "languageName": "csharp",
      "name": "csharp"
     }
    ]
   }
  }
 },
 "nbformat": 4,
 "nbformat_minor": 2
}
