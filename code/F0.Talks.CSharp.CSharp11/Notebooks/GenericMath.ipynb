{
 "cells": [
  {
   "attachments": {},
   "cell_type": "markdown",
   "metadata": {},
   "source": [
    "# Generic Math\n",
    "\n",
    "- `static virtual` members in interfaces\n",
    "- `static abstract` members in interfaces\n",
    "- `checked` user-defined operators\n",
    "- Unsigned right-shift operator\n",
    "- Relaxed shift operator\n",
    "\n",
    "See also \"curiously recurring template pattern\" (CRTP)"
   ]
  },
  {
   "cell_type": "code",
   "execution_count": null,
   "metadata": {
    "dotnet_interactive": {
     "language": "csharp"
    },
    "polyglot_notebook": {
     "kernelName": "csharp"
    }
   },
   "outputs": [],
   "source": [
    "MyMain();\n",
    "\n",
    "public interface IMyNumber<TSelf>\n",
    "    where TSelf : IMyNumber<TSelf>\n",
    "{\n",
    "    static abstract TSelf Zero { get; }\n",
    "    static abstract TSelf One { get; }\n",
    "    static abstract TSelf MinusOne { get; }\n",
    "\n",
    "    static abstract TSelf operator +(TSelf left, TSelf right);\n",
    "    static virtual TSelf operator checked +(TSelf left, TSelf right) => left + right;\n",
    "}\n",
    "\n",
    "public readonly struct MyNumber : IMyNumber<MyNumber>\n",
    "{\n",
    "    private readonly sbyte _value;\n",
    "\n",
    "    public MyNumber(sbyte value) => _value = value;\n",
    "\n",
    "    public static MyNumber Zero => new MyNumber();\n",
    "    public static MyNumber One => new MyNumber(1);\n",
    "    public static MyNumber MinusOne => new MyNumber(-1);\n",
    "\n",
    "    public static MyNumber operator +(MyNumber left, MyNumber right) => new MyNumber((sbyte)(left._value + right._value));\n",
    "    public static MyNumber operator checked +(MyNumber left, MyNumber right) => new MyNumber(checked((sbyte)(left._value + right._value)));\n",
    "\n",
    "    public static MyNumber operator <<(MyNumber value, MyNumber shiftAmount) => new MyNumber((sbyte)(value._value << shiftAmount._value));\n",
    "    public static MyNumber operator >>(MyNumber value, MyNumber shiftAmount) => new MyNumber((sbyte)(value._value >> shiftAmount._value));\n",
    "    public static MyNumber operator >>>(MyNumber value, int shiftAmount) => new MyNumber((sbyte)(value._value >>> shiftAmount));\n",
    "\n",
    "    public override string ToString() => _value.ToString();\n",
    "    public string ToBinaryString() => Convert.ToString(_value, 2).PadLeft(8, '0');\n",
    "}\n",
    "\n",
    "public static class MyMath\n",
    "{\n",
    "    public static TResult Sum<TResult>(ReadOnlySpan<TResult> values)\n",
    "        where TResult : struct, IMyNumber<TResult>\n",
    "    {\n",
    "        TResult sum = TResult.Zero;\n",
    "        foreach (TResult value in values)\n",
    "        {\n",
    "            checked { sum += value; }\n",
    "        }\n",
    "        return sum;\n",
    "    }\n",
    "}\n",
    "\n",
    "public void MyMain()\n",
    "{\n",
    "    Span<MyNumber> span = stackalloc MyNumber[] { new MyNumber(100), new MyNumber(20), new MyNumber(7) };\n",
    "\n",
    "    MyNumber sum = MyMath.Sum<MyNumber>(span);\n",
    "\n",
    "    Console.WriteLine(sum);\n",
    "    Console.WriteLine((sum >>> 0).ToBinaryString());\n",
    "}"
   ]
  }
 ],
 "metadata": {
  "kernelspec": {
   "display_name": ".NET (C#)",
   "language": "C#",
   "name": ".net-csharp"
  },
  "language_info": {
   "name": "polyglot-notebook"
  },
  "polyglot_notebook": {
   "kernelInfo": {
    "defaultKernelName": "csharp",
    "items": [
     {
      "aliases": [],
      "languageName": "csharp",
      "name": "csharp"
     }
    ]
   }
  }
 },
 "nbformat": 4,
 "nbformat_minor": 2
}
