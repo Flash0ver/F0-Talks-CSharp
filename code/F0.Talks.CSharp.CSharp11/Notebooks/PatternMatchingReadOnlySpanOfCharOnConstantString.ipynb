{
 "cells": [
  {
   "attachments": {},
   "cell_type": "markdown",
   "metadata": {},
   "source": [
    "# pattern matching ReadOnly/Span<char> on constant string\n",
    "\n",
    "`recursive patterns` C# 8.0"
   ]
  },
  {
   "cell_type": "code",
   "execution_count": null,
   "metadata": {
    "dotnet_interactive": {
     "language": "csharp"
    },
    "polyglot_notebook": {
     "kernelName": "csharp"
    }
   },
   "outputs": [],
   "source": [
    "MyMain();\n",
    "\n",
    "public void MyMain()\n",
    "{\n",
    "    ReadOnlySpan<char> text = \"@0x_F0\";\n",
    "    string result = SwitchExpression(text);\n",
    "    Console.WriteLine(result);\n",
    "}\n",
    "\n",
    "public string SwitchExpression(ReadOnlySpan<char> text)\n",
    "{\n",
    "    return text switch\n",
    "    {\n",
    "        \"@0x_F0\" => \"first\",\n",
    "        \"@FlashOWare\" => \"second\",\n",
    "        \"\" => \"empty\",\n",
    "        _ => \"default\",\n",
    "    };\n",
    "}"
   ]
  }
 ],
 "metadata": {
  "kernelspec": {
   "display_name": ".NET (C#)",
   "language": "C#",
   "name": ".net-csharp"
  },
  "language_info": {
   "name": "polyglot-notebook"
  },
  "polyglot_notebook": {
   "kernelInfo": {
    "defaultKernelName": "csharp",
    "items": [
     {
      "aliases": [],
      "languageName": "csharp",
      "name": "csharp"
     }
    ]
   }
  }
 },
 "nbformat": 4,
 "nbformat_minor": 2
}
