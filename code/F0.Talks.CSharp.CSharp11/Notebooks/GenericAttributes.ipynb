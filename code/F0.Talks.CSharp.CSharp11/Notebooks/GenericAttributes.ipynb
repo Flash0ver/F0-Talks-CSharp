{
 "cells": [
  {
   "attachments": {},
   "cell_type": "markdown",
   "metadata": {},
   "source": [
    "# Generic attributes"
   ]
  },
  {
   "cell_type": "code",
   "execution_count": 1,
   "metadata": {
    "dotnet_interactive": {
     "language": "csharp"
    },
    "polyglot_notebook": {
     "kernelName": "csharp"
    }
   },
   "outputs": [],
   "source": [
    "[AttributeUsage(AttributeTargets.All, Inherited = true, AllowMultiple = false)]\n",
    "public sealed class MyAttribute : Attribute\n",
    "{\n",
    "    public MyAttribute(Type type)\n",
    "    {\n",
    "        TypeArgument = type;\n",
    "    }\n",
    "\n",
    "    public Type TypeArgument { get; }\n",
    "}\n",
    "\n",
    "[AttributeUsage(AttributeTargets.All, Inherited = true, AllowMultiple = false)]\n",
    "public sealed class MyAttribute<TParameter> : Attribute\n",
    "{\n",
    "}\n",
    "\n",
    "[MyAttribute(typeof(string))]\n",
    "public class CSharp10\n",
    "{\n",
    "}\n",
    "\n",
    "[MyAttribute<string>()]\n",
    "public class CSharp11\n",
    "{\n",
    "}"
   ]
  }
 ],
 "metadata": {
  "kernelspec": {
   "display_name": ".NET (C#)",
   "language": "C#",
   "name": ".net-csharp"
  },
  "language_info": {
   "name": "polyglot-notebook"
  },
  "polyglot_notebook": {
   "kernelInfo": {
    "defaultKernelName": "csharp",
    "items": [
     {
      "aliases": [],
      "languageName": "csharp",
      "name": "csharp"
     }
    ]
   }
  }
 },
 "nbformat": 4,
 "nbformat_minor": 2
}
