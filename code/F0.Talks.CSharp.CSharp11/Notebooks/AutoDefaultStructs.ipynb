{
 "cells": [
  {
   "attachments": {},
   "cell_type": "markdown",
   "metadata": {},
   "source": [
    "# Auto-default structs\n",
    "\n",
    "`parameterless struct constructors` C# 10.0"
   ]
  },
  {
   "cell_type": "code",
   "execution_count": null,
   "metadata": {
    "dotnet_interactive": {
     "language": "csharp"
    },
    "polyglot_notebook": {
     "kernelName": "csharp"
    }
   },
   "outputs": [],
   "source": [
    "MyStruct @default = default;\n",
    "\n",
    "Console.WriteLine(@default);\n",
    "Console.WriteLine(new MyStruct());\n",
    "Console.WriteLine(new MyStruct(0x_F0));\n",
    "\n",
    "public readonly struct MyStruct\n",
    "{\n",
    "    private readonly int _field1;\n",
    "    private readonly int _field2;\n",
    "\n",
    "    public MyStruct()\n",
    "    {\n",
    "        _field1 = -1;\n",
    "    }\n",
    "\n",
    "    public MyStruct(int value)\n",
    "    {\n",
    "        _field1 = value;\n",
    "    }\n",
    "\n",
    "    public override string ToString()\n",
    "    {\n",
    "        return $$\"\"\"MyStruct { {{nameof(_field1)}} = {{_field1}}, {{nameof(_field2)}} = {{_field2}} }\"\"\";\n",
    "    }\n",
    "}"
   ]
  }
 ],
 "metadata": {
  "kernelspec": {
   "display_name": ".NET (C#)",
   "language": "C#",
   "name": ".net-csharp"
  },
  "language_info": {
   "name": "polyglot-notebook"
  },
  "polyglot_notebook": {
   "kernelInfo": {
    "defaultKernelName": "csharp",
    "items": [
     {
      "aliases": [],
      "languageName": "csharp",
      "name": "csharp"
     }
    ]
   }
  }
 },
 "nbformat": 4,
 "nbformat_minor": 2
}
