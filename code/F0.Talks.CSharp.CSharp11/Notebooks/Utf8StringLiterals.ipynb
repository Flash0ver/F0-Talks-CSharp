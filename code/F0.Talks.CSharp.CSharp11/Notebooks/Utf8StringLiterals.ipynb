{
 "cells": [
  {
   "attachments": {},
   "cell_type": "markdown",
   "metadata": {},
   "source": [
    "# UTF-8 string literals"
   ]
  },
  {
   "cell_type": "code",
   "execution_count": null,
   "metadata": {
    "dotnet_interactive": {
     "language": "csharp"
    },
    "polyglot_notebook": {
     "kernelName": "csharp"
    }
   },
   "outputs": [],
   "source": [
    "using System.IO;\n",
    "using System.Text.Json;\n",
    "\n",
    "MyMain();\n",
    "\n",
    "public void MyMain()\n",
    "{\n",
    "    ReadOnlySpan<byte> bytes = new byte[] { 0x40, 0x30, 0x78, 0x5f, 0x46, 0x30 };\n",
    "    ReadOnlySpan<byte> utf8 = \"@0x_F0\"u8;\n",
    "    byte[] array = utf8.ToArray();\n",
    "\n",
    "    using var stream = new MemoryStream();\n",
    "    using var writer = new Utf8JsonWriter(stream);\n",
    "\n",
    "    writer.WriteStartObject();\n",
    "\n",
    "    writer.WritePropertyName(\"names\"u8);\n",
    "    writer.WriteStartArray();\n",
    "    writer.WriteStringValue(\"@0x_F0\"u8);\n",
    "    writer.WriteStringValue(\"@FlashOWare\"u8);\n",
    "    writer.WriteEndArray();\n",
    "\n",
    "    writer.WritePropertyName(\"channels\"u8);\n",
    "    writer.WriteStartArray();\n",
    "    writer.WriteStringValue(\"twitch.tv/FlashOWare\"u8);\n",
    "    writer.WriteStringValue(\"youtube.com/@FlashOWare\"u8);\n",
    "    writer.WriteEndArray();\n",
    "\n",
    "    writer.WriteEndObject();\n",
    "    writer.Flush();\n",
    "\n",
    "    string json = Encoding.UTF8.GetString(stream.ToArray());\n",
    "    Console.WriteLine(json);\n",
    "}"
   ]
  }
 ],
 "metadata": {
  "kernelspec": {
   "display_name": ".NET (C#)",
   "language": "C#",
   "name": ".net-csharp"
  },
  "language_info": {
   "name": "polyglot-notebook"
  },
  "polyglot_notebook": {
   "kernelInfo": {
    "defaultKernelName": "csharp",
    "items": [
     {
      "aliases": [],
      "languageName": "csharp",
      "name": "csharp"
     }
    ]
   }
  }
 },
 "nbformat": 4,
 "nbformat_minor": 2
}
