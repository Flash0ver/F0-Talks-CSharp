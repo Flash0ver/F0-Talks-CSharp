{
 "cells": [
  {
   "attachments": {},
   "cell_type": "markdown",
   "metadata": {},
   "source": [
    "# List pattern\n",
    "\n",
    "`pattern matching` C# 7.0"
   ]
  },
  {
   "cell_type": "code",
   "execution_count": null,
   "metadata": {
    "dotnet_interactive": {
     "language": "csharp"
    },
    "polyglot_notebook": {
     "kernelName": "csharp"
    }
   },
   "outputs": [],
   "source": [
    "MyMain();\n",
    "\n",
    "public void MyMain()\n",
    "{\n",
    "    string[] args = { \"dotnet\", \"build\", \"--configuration\", \"Release\", \"--no-incremental\" };\n",
    "\n",
    "    Console.WriteLine($\"{nameof(IsValid)}: {IsValid(args)}\");\n",
    "    Console.WriteLine($\"{nameof(Join)}: {Join(args)}\");\n",
    "}\n",
    "\n",
    "public static bool IsValid(string[] args)\n",
    "{\n",
    "    return args is [\"dotnet\", { Length: > 0 }, ..];\n",
    "}\n",
    "\n",
    "public static string Join(string[] args)\n",
    "{\n",
    "    return args switch\n",
    "    {\n",
    "        [string driver, string verb] => $\"{driver} {verb}\",\n",
    "        [string driver, string verb, .. var options] => $\"{driver} {verb} {String.Join(' ', options)}\",\n",
    "        _ => \"default\",\n",
    "    };\n",
    "}"
   ]
  }
 ],
 "metadata": {
  "kernelspec": {
   "display_name": ".NET (C#)",
   "language": "C#",
   "name": ".net-csharp"
  },
  "language_info": {
   "name": "polyglot-notebook"
  },
  "polyglot_notebook": {
   "kernelInfo": {
    "defaultKernelName": "csharp",
    "items": [
     {
      "aliases": [],
      "languageName": "csharp",
      "name": "csharp"
     }
    ]
   }
  }
 },
 "nbformat": 4,
 "nbformat_minor": 2
}
