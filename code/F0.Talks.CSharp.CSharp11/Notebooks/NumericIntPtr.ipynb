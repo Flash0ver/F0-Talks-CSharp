{
 "cells": [
  {
   "attachments": {},
   "cell_type": "markdown",
   "metadata": {},
   "source": [
    "# Numeric IntPtr (and UIntPtr)\n",
    "when targeting the .NET 7 runtime (or later)\n",
    "\n",
    "`native-sized integers` C# 9.0"
   ]
  },
  {
   "cell_type": "code",
   "execution_count": null,
   "metadata": {
    "dotnet_interactive": {
     "language": "csharp"
    },
    "polyglot_notebook": {
     "kernelName": "csharp"
    }
   },
   "outputs": [],
   "source": [
    "NativeSizedSignedInteger();\n",
    "NativeSizedUnsignedInteger();\n",
    "\n",
    "public void NativeSizedSignedInteger()\n",
    "{\n",
    "    int size = nint.Size;\n",
    "    IntPtr zero = nint.Zero;\n",
    "\n",
    "    Console.WriteLine($\"{nameof(size)}: {size}\");\n",
    "    Console.WriteLine($\"{nameof(zero)}: {zero}\");\n",
    "}\n",
    "\n",
    "public void NativeSizedUnsignedInteger()\n",
    "{\n",
    "    int size = nuint.Size;\n",
    "    UIntPtr zero = nuint.Zero;\n",
    "\n",
    "    Console.WriteLine($\"{nameof(size)}: {size}\");\n",
    "    Console.WriteLine($\"{nameof(zero)}: {zero}\");\n",
    "}"
   ]
  }
 ],
 "metadata": {
  "kernelspec": {
   "display_name": ".NET (C#)",
   "language": "C#",
   "name": ".net-csharp"
  },
  "language_info": {
   "name": "polyglot-notebook"
  },
  "polyglot_notebook": {
   "kernelInfo": {
    "defaultKernelName": "csharp",
    "items": [
     {
      "aliases": [],
      "languageName": "csharp",
      "name": "csharp"
     }
    ]
   }
  }
 },
 "nbformat": 4,
 "nbformat_minor": 2
}
