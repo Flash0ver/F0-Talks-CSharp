{
 "cells": [
  {
   "attachments": {},
   "cell_type": "markdown",
   "metadata": {},
   "source": [
    "# Extended nameof scope\n",
    "\n",
    "`nameof operator` C# 6"
   ]
  },
  {
   "cell_type": "code",
   "execution_count": null,
   "metadata": {
    "dotnet_interactive": {
     "language": "csharp"
    },
    "polyglot_notebook": {
     "kernelName": "csharp"
    }
   },
   "outputs": [],
   "source": [
    "#nullable enable\n",
    "using System.Diagnostics.CodeAnalysis;\n",
    "using System.Runtime.CompilerServices;\n",
    "\n",
    "string? value = \"@0x_F0\";\n",
    "string name = GetName(value);\n",
    "ThrowIfNull(value);\n",
    "Console.WriteLine(name);\n",
    "\n",
    "public static void ThrowIfNull([NotNull] object? argument, [CallerArgumentExpression(nameof(argument))] string? paramName = null)\n",
    "{\n",
    "    if (argument is null)\n",
    "    {\n",
    "        throw new ArgumentNullException(paramName);\n",
    "    }\n",
    "}\n",
    "\n",
    "[return: NotNullIfNotNull(nameof(path))]\n",
    "public static string? GetName(string? path)\n",
    "{\n",
    "    if (path is null)\n",
    "    {\n",
    "        return null;\n",
    "    }\n",
    "\n",
    "    if (path.StartsWith('@'))\n",
    "    {\n",
    "        return path[1..];\n",
    "    }\n",
    "\n",
    "    return path;\n",
    "}"
   ]
  }
 ],
 "metadata": {
  "kernelspec": {
   "display_name": ".NET (C#)",
   "language": "C#",
   "name": ".net-csharp"
  },
  "language_info": {
   "name": "polyglot-notebook"
  },
  "polyglot_notebook": {
   "kernelInfo": {
    "defaultKernelName": "csharp",
    "items": [
     {
      "aliases": [],
      "languageName": "csharp",
      "name": "csharp"
     }
    ]
   }
  }
 },
 "nbformat": 4,
 "nbformat_minor": 2
}
