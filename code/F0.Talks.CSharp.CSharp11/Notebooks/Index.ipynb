{
 "cells": [
  {
   "attachments": {},
   "cell_type": "markdown",
   "metadata": {},
   "source": [
    "# The sweet Syntax of C# 11\n",
    "\n",
    "1. [Raw `string` literals](./RawStringLiterals.ipynb)\n",
    "1. [Newlines in `string` interpolations](./NewlinesInStringInterpolations.ipynb)\n",
    "1. UTF-8 string literals\n",
    "   - [Notebook](./Utf8StringLiterals.ipynb)\n",
    "   - [Benchmark](../Benchmarks/Utf8StringLiterals.cs)\n",
    "1. [Extended `nameof` scope](./ExtendedNameofScope.ipynb)\n",
    "1. [Generic attributes](./GenericAttributes.ipynb)\n",
    "1. Generic math support\n",
    "   - [Notebook](./GenericMath.ipynb)\n",
    "   - [Benchmark](../Benchmarks/GenericMath.cs)\n",
    "1. [`required` members](./RequiredMembers.ipynb)\n",
    "1. [`file` types](../Lang/FileTypes.cs)\n",
    "1. [Auto-default `struct`s](./AutoDefaultStructs.ipynb)\n",
    "1. [`ref` fields and `scoped` ref](./RefFields.ipynb)\n",
    "1. [List pattern](./ListPattern.ipynb)\n",
    "1. [Pattern matching (`ReadOnly`)`Span<char>` on constant `string`](./PatternMatchingReadOnlySpanOfCharOnConstantString.ipynb)\n",
    "1. [Numeric `IntPtr`](./NumericIntPtr.ipynb)\n",
    "1. [Improved method group conversion to `delegate`](../Benchmarks/MethodGroupConversions.cs)\n",
    "1. [Warning wave 7](../Lang/WarningWave7.cs)\n",
    "\n",
    "## See also\n",
    "- [What's new in C# 11](https://learn.microsoft.com/dotnet/csharp/whats-new/csharp-11)\n",
    "- [C# Language Design](https://github.com/dotnet/csharplang)\n",
    "- [Roslyn (The .NET Compiler Platform)](https://github.com/dotnet/roslyn)\n",
    "\n",
    "## Tools\n",
    "- [Visual Studio Code](https://code.visualstudio.com/)\n",
    "- [.NET 7.0](https://dotnet.microsoft.com/download/dotnet/7.0)\n",
    "- VS Code Extension: [Polyglot Notebooks](https://marketplace.visualstudio.com/items?itemName=ms-dotnettools.dotnet-interactive-vscode)\n",
    "- [SharpLab](https://sharplab.io/)\n",
    "- [.NET Source Browser](https://source.dot.net/)\n",
    "\n",
    "## Stefan Pölz\n",
    "* Clean C# Coder\n",
    "* Test-driven .NET developer\n",
    "* [FlashOWare.net](http://flashoware.net)\n",
    "\n",
    "### Community\n",
    "* JetBrains Community Contributor (.NET)\n",
    "* Microsoft MVP (Developer Technologies)\n",
    "* Co-organizer of [DotNetDevs.at](https://www.meetup.com/dotnet-austria/)\n",
    "\n",
    "### Alter egos\n",
    "* Twitter: [@0x_F0](https://twitter.com/0x_F0)\n",
    "* Twitch: [FlashOWare](https://www.twitch.tv/flashoware)\n",
    "* YouTube: [FlashOWare](https://www.youtube.com/@FlashOWare)\n",
    "* GitHub: [Flash0ver](https://github.com/Flash0ver)\n",
    "* NuGet: [Flash0ver](https://www.nuget.org/profiles/Flash0ver)\n",
    "* Stack Overflow: [FlashOver](https://stackoverflow.com/users/10167996/flashover)\n",
    "* LinkedIn: [Stefan Pölz](https://www.linkedin.com/in/flashover/)\n",
    "* Sessionize: [FlashOver](https://sessionize.com/FlashOver)\n"
   ]
  }
 ],
 "metadata": {
  "kernelspec": {
   "display_name": ".NET (C#)",
   "language": "C#",
   "name": ".net-csharp"
  },
  "language_info": {
   "name": "polyglot-notebook"
  },
  "polyglot_notebook": {
   "kernelInfo": {
    "defaultKernelName": "csharp",
    "items": [
     {
      "aliases": [],
      "languageName": "csharp",
      "name": "csharp"
     }
    ]
   }
  }
 },
 "nbformat": 4,
 "nbformat_minor": 2
}
